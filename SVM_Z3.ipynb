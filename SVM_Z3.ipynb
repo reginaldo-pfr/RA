{
  "nbformat": 4,
  "nbformat_minor": 0,
  "metadata": {
    "colab": {
      "name": "SVM_Z3.ipynb",
      "provenance": [],
      "collapsed_sections": []
    },
    "kernelspec": {
      "name": "python3",
      "display_name": "Python 3"
    },
    "language_info": {
      "name": "python"
    }
  },
  "cells": [
    {
      "cell_type": "code",
      "source": [
        "import numpy as np\n",
        "import pandas as pd"
      ],
      "metadata": {
        "id": "sKO3GRmi4AhC"
      },
      "execution_count": null,
      "outputs": []
    },
    {
      "cell_type": "code",
      "execution_count": null,
      "metadata": {
        "id": "4e84MLIO38kS"
      },
      "outputs": [],
      "source": [
        "from sklearn import datasets\n",
        "cancer = datasets.load_breast_cancer()"
      ]
    },
    {
      "cell_type": "code",
      "source": [
        "cancer.data.shape"
      ],
      "metadata": {
        "colab": {
          "base_uri": "https://localhost:8080/"
        },
        "id": "hF3SZy2g4H23",
        "outputId": "64f2da60-f818-4ccc-cb2e-58d2f64bb39d"
      },
      "execution_count": null,
      "outputs": [
        {
          "output_type": "execute_result",
          "data": {
            "text/plain": [
              "(569, 30)"
            ]
          },
          "metadata": {},
          "execution_count": 4
        }
      ]
    },
    {
      "cell_type": "code",
      "source": [
        "df = pd.DataFrame(cancer.data, columns = cancer.feature_names)\n",
        "df"
      ],
      "metadata": {
        "colab": {
          "base_uri": "https://localhost:8080/",
          "height": 522
        },
        "id": "drNqWC8g4JcO",
        "outputId": "2499f2a0-cfc4-4499-82a9-71bcf2048a16"
      },
      "execution_count": null,
      "outputs": [
        {
          "output_type": "execute_result",
          "data": {
            "text/plain": [
              "     mean radius  mean texture  mean perimeter  mean area  mean smoothness  \\\n",
              "0          17.99         10.38          122.80     1001.0          0.11840   \n",
              "1          20.57         17.77          132.90     1326.0          0.08474   \n",
              "2          19.69         21.25          130.00     1203.0          0.10960   \n",
              "3          11.42         20.38           77.58      386.1          0.14250   \n",
              "4          20.29         14.34          135.10     1297.0          0.10030   \n",
              "..           ...           ...             ...        ...              ...   \n",
              "564        21.56         22.39          142.00     1479.0          0.11100   \n",
              "565        20.13         28.25          131.20     1261.0          0.09780   \n",
              "566        16.60         28.08          108.30      858.1          0.08455   \n",
              "567        20.60         29.33          140.10     1265.0          0.11780   \n",
              "568         7.76         24.54           47.92      181.0          0.05263   \n",
              "\n",
              "     mean compactness  mean concavity  mean concave points  mean symmetry  \\\n",
              "0             0.27760         0.30010              0.14710         0.2419   \n",
              "1             0.07864         0.08690              0.07017         0.1812   \n",
              "2             0.15990         0.19740              0.12790         0.2069   \n",
              "3             0.28390         0.24140              0.10520         0.2597   \n",
              "4             0.13280         0.19800              0.10430         0.1809   \n",
              "..                ...             ...                  ...            ...   \n",
              "564           0.11590         0.24390              0.13890         0.1726   \n",
              "565           0.10340         0.14400              0.09791         0.1752   \n",
              "566           0.10230         0.09251              0.05302         0.1590   \n",
              "567           0.27700         0.35140              0.15200         0.2397   \n",
              "568           0.04362         0.00000              0.00000         0.1587   \n",
              "\n",
              "     mean fractal dimension  ...  worst radius  worst texture  \\\n",
              "0                   0.07871  ...        25.380          17.33   \n",
              "1                   0.05667  ...        24.990          23.41   \n",
              "2                   0.05999  ...        23.570          25.53   \n",
              "3                   0.09744  ...        14.910          26.50   \n",
              "4                   0.05883  ...        22.540          16.67   \n",
              "..                      ...  ...           ...            ...   \n",
              "564                 0.05623  ...        25.450          26.40   \n",
              "565                 0.05533  ...        23.690          38.25   \n",
              "566                 0.05648  ...        18.980          34.12   \n",
              "567                 0.07016  ...        25.740          39.42   \n",
              "568                 0.05884  ...         9.456          30.37   \n",
              "\n",
              "     worst perimeter  worst area  worst smoothness  worst compactness  \\\n",
              "0             184.60      2019.0           0.16220            0.66560   \n",
              "1             158.80      1956.0           0.12380            0.18660   \n",
              "2             152.50      1709.0           0.14440            0.42450   \n",
              "3              98.87       567.7           0.20980            0.86630   \n",
              "4             152.20      1575.0           0.13740            0.20500   \n",
              "..               ...         ...               ...                ...   \n",
              "564           166.10      2027.0           0.14100            0.21130   \n",
              "565           155.00      1731.0           0.11660            0.19220   \n",
              "566           126.70      1124.0           0.11390            0.30940   \n",
              "567           184.60      1821.0           0.16500            0.86810   \n",
              "568            59.16       268.6           0.08996            0.06444   \n",
              "\n",
              "     worst concavity  worst concave points  worst symmetry  \\\n",
              "0             0.7119                0.2654          0.4601   \n",
              "1             0.2416                0.1860          0.2750   \n",
              "2             0.4504                0.2430          0.3613   \n",
              "3             0.6869                0.2575          0.6638   \n",
              "4             0.4000                0.1625          0.2364   \n",
              "..               ...                   ...             ...   \n",
              "564           0.4107                0.2216          0.2060   \n",
              "565           0.3215                0.1628          0.2572   \n",
              "566           0.3403                0.1418          0.2218   \n",
              "567           0.9387                0.2650          0.4087   \n",
              "568           0.0000                0.0000          0.2871   \n",
              "\n",
              "     worst fractal dimension  \n",
              "0                    0.11890  \n",
              "1                    0.08902  \n",
              "2                    0.08758  \n",
              "3                    0.17300  \n",
              "4                    0.07678  \n",
              "..                       ...  \n",
              "564                  0.07115  \n",
              "565                  0.06637  \n",
              "566                  0.07820  \n",
              "567                  0.12400  \n",
              "568                  0.07039  \n",
              "\n",
              "[569 rows x 30 columns]"
            ],
            "text/html": [
              "\n",
              "  <div id=\"df-a7155548-e297-4a66-b0d1-b6381290eb71\">\n",
              "    <div class=\"colab-df-container\">\n",
              "      <div>\n",
              "<style scoped>\n",
              "    .dataframe tbody tr th:only-of-type {\n",
              "        vertical-align: middle;\n",
              "    }\n",
              "\n",
              "    .dataframe tbody tr th {\n",
              "        vertical-align: top;\n",
              "    }\n",
              "\n",
              "    .dataframe thead th {\n",
              "        text-align: right;\n",
              "    }\n",
              "</style>\n",
              "<table border=\"1\" class=\"dataframe\">\n",
              "  <thead>\n",
              "    <tr style=\"text-align: right;\">\n",
              "      <th></th>\n",
              "      <th>mean radius</th>\n",
              "      <th>mean texture</th>\n",
              "      <th>mean perimeter</th>\n",
              "      <th>mean area</th>\n",
              "      <th>mean smoothness</th>\n",
              "      <th>mean compactness</th>\n",
              "      <th>mean concavity</th>\n",
              "      <th>mean concave points</th>\n",
              "      <th>mean symmetry</th>\n",
              "      <th>mean fractal dimension</th>\n",
              "      <th>...</th>\n",
              "      <th>worst radius</th>\n",
              "      <th>worst texture</th>\n",
              "      <th>worst perimeter</th>\n",
              "      <th>worst area</th>\n",
              "      <th>worst smoothness</th>\n",
              "      <th>worst compactness</th>\n",
              "      <th>worst concavity</th>\n",
              "      <th>worst concave points</th>\n",
              "      <th>worst symmetry</th>\n",
              "      <th>worst fractal dimension</th>\n",
              "    </tr>\n",
              "  </thead>\n",
              "  <tbody>\n",
              "    <tr>\n",
              "      <th>0</th>\n",
              "      <td>17.99</td>\n",
              "      <td>10.38</td>\n",
              "      <td>122.80</td>\n",
              "      <td>1001.0</td>\n",
              "      <td>0.11840</td>\n",
              "      <td>0.27760</td>\n",
              "      <td>0.30010</td>\n",
              "      <td>0.14710</td>\n",
              "      <td>0.2419</td>\n",
              "      <td>0.07871</td>\n",
              "      <td>...</td>\n",
              "      <td>25.380</td>\n",
              "      <td>17.33</td>\n",
              "      <td>184.60</td>\n",
              "      <td>2019.0</td>\n",
              "      <td>0.16220</td>\n",
              "      <td>0.66560</td>\n",
              "      <td>0.7119</td>\n",
              "      <td>0.2654</td>\n",
              "      <td>0.4601</td>\n",
              "      <td>0.11890</td>\n",
              "    </tr>\n",
              "    <tr>\n",
              "      <th>1</th>\n",
              "      <td>20.57</td>\n",
              "      <td>17.77</td>\n",
              "      <td>132.90</td>\n",
              "      <td>1326.0</td>\n",
              "      <td>0.08474</td>\n",
              "      <td>0.07864</td>\n",
              "      <td>0.08690</td>\n",
              "      <td>0.07017</td>\n",
              "      <td>0.1812</td>\n",
              "      <td>0.05667</td>\n",
              "      <td>...</td>\n",
              "      <td>24.990</td>\n",
              "      <td>23.41</td>\n",
              "      <td>158.80</td>\n",
              "      <td>1956.0</td>\n",
              "      <td>0.12380</td>\n",
              "      <td>0.18660</td>\n",
              "      <td>0.2416</td>\n",
              "      <td>0.1860</td>\n",
              "      <td>0.2750</td>\n",
              "      <td>0.08902</td>\n",
              "    </tr>\n",
              "    <tr>\n",
              "      <th>2</th>\n",
              "      <td>19.69</td>\n",
              "      <td>21.25</td>\n",
              "      <td>130.00</td>\n",
              "      <td>1203.0</td>\n",
              "      <td>0.10960</td>\n",
              "      <td>0.15990</td>\n",
              "      <td>0.19740</td>\n",
              "      <td>0.12790</td>\n",
              "      <td>0.2069</td>\n",
              "      <td>0.05999</td>\n",
              "      <td>...</td>\n",
              "      <td>23.570</td>\n",
              "      <td>25.53</td>\n",
              "      <td>152.50</td>\n",
              "      <td>1709.0</td>\n",
              "      <td>0.14440</td>\n",
              "      <td>0.42450</td>\n",
              "      <td>0.4504</td>\n",
              "      <td>0.2430</td>\n",
              "      <td>0.3613</td>\n",
              "      <td>0.08758</td>\n",
              "    </tr>\n",
              "    <tr>\n",
              "      <th>3</th>\n",
              "      <td>11.42</td>\n",
              "      <td>20.38</td>\n",
              "      <td>77.58</td>\n",
              "      <td>386.1</td>\n",
              "      <td>0.14250</td>\n",
              "      <td>0.28390</td>\n",
              "      <td>0.24140</td>\n",
              "      <td>0.10520</td>\n",
              "      <td>0.2597</td>\n",
              "      <td>0.09744</td>\n",
              "      <td>...</td>\n",
              "      <td>14.910</td>\n",
              "      <td>26.50</td>\n",
              "      <td>98.87</td>\n",
              "      <td>567.7</td>\n",
              "      <td>0.20980</td>\n",
              "      <td>0.86630</td>\n",
              "      <td>0.6869</td>\n",
              "      <td>0.2575</td>\n",
              "      <td>0.6638</td>\n",
              "      <td>0.17300</td>\n",
              "    </tr>\n",
              "    <tr>\n",
              "      <th>4</th>\n",
              "      <td>20.29</td>\n",
              "      <td>14.34</td>\n",
              "      <td>135.10</td>\n",
              "      <td>1297.0</td>\n",
              "      <td>0.10030</td>\n",
              "      <td>0.13280</td>\n",
              "      <td>0.19800</td>\n",
              "      <td>0.10430</td>\n",
              "      <td>0.1809</td>\n",
              "      <td>0.05883</td>\n",
              "      <td>...</td>\n",
              "      <td>22.540</td>\n",
              "      <td>16.67</td>\n",
              "      <td>152.20</td>\n",
              "      <td>1575.0</td>\n",
              "      <td>0.13740</td>\n",
              "      <td>0.20500</td>\n",
              "      <td>0.4000</td>\n",
              "      <td>0.1625</td>\n",
              "      <td>0.2364</td>\n",
              "      <td>0.07678</td>\n",
              "    </tr>\n",
              "    <tr>\n",
              "      <th>...</th>\n",
              "      <td>...</td>\n",
              "      <td>...</td>\n",
              "      <td>...</td>\n",
              "      <td>...</td>\n",
              "      <td>...</td>\n",
              "      <td>...</td>\n",
              "      <td>...</td>\n",
              "      <td>...</td>\n",
              "      <td>...</td>\n",
              "      <td>...</td>\n",
              "      <td>...</td>\n",
              "      <td>...</td>\n",
              "      <td>...</td>\n",
              "      <td>...</td>\n",
              "      <td>...</td>\n",
              "      <td>...</td>\n",
              "      <td>...</td>\n",
              "      <td>...</td>\n",
              "      <td>...</td>\n",
              "      <td>...</td>\n",
              "      <td>...</td>\n",
              "    </tr>\n",
              "    <tr>\n",
              "      <th>564</th>\n",
              "      <td>21.56</td>\n",
              "      <td>22.39</td>\n",
              "      <td>142.00</td>\n",
              "      <td>1479.0</td>\n",
              "      <td>0.11100</td>\n",
              "      <td>0.11590</td>\n",
              "      <td>0.24390</td>\n",
              "      <td>0.13890</td>\n",
              "      <td>0.1726</td>\n",
              "      <td>0.05623</td>\n",
              "      <td>...</td>\n",
              "      <td>25.450</td>\n",
              "      <td>26.40</td>\n",
              "      <td>166.10</td>\n",
              "      <td>2027.0</td>\n",
              "      <td>0.14100</td>\n",
              "      <td>0.21130</td>\n",
              "      <td>0.4107</td>\n",
              "      <td>0.2216</td>\n",
              "      <td>0.2060</td>\n",
              "      <td>0.07115</td>\n",
              "    </tr>\n",
              "    <tr>\n",
              "      <th>565</th>\n",
              "      <td>20.13</td>\n",
              "      <td>28.25</td>\n",
              "      <td>131.20</td>\n",
              "      <td>1261.0</td>\n",
              "      <td>0.09780</td>\n",
              "      <td>0.10340</td>\n",
              "      <td>0.14400</td>\n",
              "      <td>0.09791</td>\n",
              "      <td>0.1752</td>\n",
              "      <td>0.05533</td>\n",
              "      <td>...</td>\n",
              "      <td>23.690</td>\n",
              "      <td>38.25</td>\n",
              "      <td>155.00</td>\n",
              "      <td>1731.0</td>\n",
              "      <td>0.11660</td>\n",
              "      <td>0.19220</td>\n",
              "      <td>0.3215</td>\n",
              "      <td>0.1628</td>\n",
              "      <td>0.2572</td>\n",
              "      <td>0.06637</td>\n",
              "    </tr>\n",
              "    <tr>\n",
              "      <th>566</th>\n",
              "      <td>16.60</td>\n",
              "      <td>28.08</td>\n",
              "      <td>108.30</td>\n",
              "      <td>858.1</td>\n",
              "      <td>0.08455</td>\n",
              "      <td>0.10230</td>\n",
              "      <td>0.09251</td>\n",
              "      <td>0.05302</td>\n",
              "      <td>0.1590</td>\n",
              "      <td>0.05648</td>\n",
              "      <td>...</td>\n",
              "      <td>18.980</td>\n",
              "      <td>34.12</td>\n",
              "      <td>126.70</td>\n",
              "      <td>1124.0</td>\n",
              "      <td>0.11390</td>\n",
              "      <td>0.30940</td>\n",
              "      <td>0.3403</td>\n",
              "      <td>0.1418</td>\n",
              "      <td>0.2218</td>\n",
              "      <td>0.07820</td>\n",
              "    </tr>\n",
              "    <tr>\n",
              "      <th>567</th>\n",
              "      <td>20.60</td>\n",
              "      <td>29.33</td>\n",
              "      <td>140.10</td>\n",
              "      <td>1265.0</td>\n",
              "      <td>0.11780</td>\n",
              "      <td>0.27700</td>\n",
              "      <td>0.35140</td>\n",
              "      <td>0.15200</td>\n",
              "      <td>0.2397</td>\n",
              "      <td>0.07016</td>\n",
              "      <td>...</td>\n",
              "      <td>25.740</td>\n",
              "      <td>39.42</td>\n",
              "      <td>184.60</td>\n",
              "      <td>1821.0</td>\n",
              "      <td>0.16500</td>\n",
              "      <td>0.86810</td>\n",
              "      <td>0.9387</td>\n",
              "      <td>0.2650</td>\n",
              "      <td>0.4087</td>\n",
              "      <td>0.12400</td>\n",
              "    </tr>\n",
              "    <tr>\n",
              "      <th>568</th>\n",
              "      <td>7.76</td>\n",
              "      <td>24.54</td>\n",
              "      <td>47.92</td>\n",
              "      <td>181.0</td>\n",
              "      <td>0.05263</td>\n",
              "      <td>0.04362</td>\n",
              "      <td>0.00000</td>\n",
              "      <td>0.00000</td>\n",
              "      <td>0.1587</td>\n",
              "      <td>0.05884</td>\n",
              "      <td>...</td>\n",
              "      <td>9.456</td>\n",
              "      <td>30.37</td>\n",
              "      <td>59.16</td>\n",
              "      <td>268.6</td>\n",
              "      <td>0.08996</td>\n",
              "      <td>0.06444</td>\n",
              "      <td>0.0000</td>\n",
              "      <td>0.0000</td>\n",
              "      <td>0.2871</td>\n",
              "      <td>0.07039</td>\n",
              "    </tr>\n",
              "  </tbody>\n",
              "</table>\n",
              "<p>569 rows × 30 columns</p>\n",
              "</div>\n",
              "      <button class=\"colab-df-convert\" onclick=\"convertToInteractive('df-a7155548-e297-4a66-b0d1-b6381290eb71')\"\n",
              "              title=\"Convert this dataframe to an interactive table.\"\n",
              "              style=\"display:none;\">\n",
              "        \n",
              "  <svg xmlns=\"http://www.w3.org/2000/svg\" height=\"24px\"viewBox=\"0 0 24 24\"\n",
              "       width=\"24px\">\n",
              "    <path d=\"M0 0h24v24H0V0z\" fill=\"none\"/>\n",
              "    <path d=\"M18.56 5.44l.94 2.06.94-2.06 2.06-.94-2.06-.94-.94-2.06-.94 2.06-2.06.94zm-11 1L8.5 8.5l.94-2.06 2.06-.94-2.06-.94L8.5 2.5l-.94 2.06-2.06.94zm10 10l.94 2.06.94-2.06 2.06-.94-2.06-.94-.94-2.06-.94 2.06-2.06.94z\"/><path d=\"M17.41 7.96l-1.37-1.37c-.4-.4-.92-.59-1.43-.59-.52 0-1.04.2-1.43.59L10.3 9.45l-7.72 7.72c-.78.78-.78 2.05 0 2.83L4 21.41c.39.39.9.59 1.41.59.51 0 1.02-.2 1.41-.59l7.78-7.78 2.81-2.81c.8-.78.8-2.07 0-2.86zM5.41 20L4 18.59l7.72-7.72 1.47 1.35L5.41 20z\"/>\n",
              "  </svg>\n",
              "      </button>\n",
              "      \n",
              "  <style>\n",
              "    .colab-df-container {\n",
              "      display:flex;\n",
              "      flex-wrap:wrap;\n",
              "      gap: 12px;\n",
              "    }\n",
              "\n",
              "    .colab-df-convert {\n",
              "      background-color: #E8F0FE;\n",
              "      border: none;\n",
              "      border-radius: 50%;\n",
              "      cursor: pointer;\n",
              "      display: none;\n",
              "      fill: #1967D2;\n",
              "      height: 32px;\n",
              "      padding: 0 0 0 0;\n",
              "      width: 32px;\n",
              "    }\n",
              "\n",
              "    .colab-df-convert:hover {\n",
              "      background-color: #E2EBFA;\n",
              "      box-shadow: 0px 1px 2px rgba(60, 64, 67, 0.3), 0px 1px 3px 1px rgba(60, 64, 67, 0.15);\n",
              "      fill: #174EA6;\n",
              "    }\n",
              "\n",
              "    [theme=dark] .colab-df-convert {\n",
              "      background-color: #3B4455;\n",
              "      fill: #D2E3FC;\n",
              "    }\n",
              "\n",
              "    [theme=dark] .colab-df-convert:hover {\n",
              "      background-color: #434B5C;\n",
              "      box-shadow: 0px 1px 3px 1px rgba(0, 0, 0, 0.15);\n",
              "      filter: drop-shadow(0px 1px 2px rgba(0, 0, 0, 0.3));\n",
              "      fill: #FFFFFF;\n",
              "    }\n",
              "  </style>\n",
              "\n",
              "      <script>\n",
              "        const buttonEl =\n",
              "          document.querySelector('#df-a7155548-e297-4a66-b0d1-b6381290eb71 button.colab-df-convert');\n",
              "        buttonEl.style.display =\n",
              "          google.colab.kernel.accessAllowed ? 'block' : 'none';\n",
              "\n",
              "        async function convertToInteractive(key) {\n",
              "          const element = document.querySelector('#df-a7155548-e297-4a66-b0d1-b6381290eb71');\n",
              "          const dataTable =\n",
              "            await google.colab.kernel.invokeFunction('convertToInteractive',\n",
              "                                                     [key], {});\n",
              "          if (!dataTable) return;\n",
              "\n",
              "          const docLinkHtml = 'Like what you see? Visit the ' +\n",
              "            '<a target=\"_blank\" href=https://colab.research.google.com/notebooks/data_table.ipynb>data table notebook</a>'\n",
              "            + ' to learn more about interactive tables.';\n",
              "          element.innerHTML = '';\n",
              "          dataTable['output_type'] = 'display_data';\n",
              "          await google.colab.output.renderOutput(dataTable, element);\n",
              "          const docLink = document.createElement('div');\n",
              "          docLink.innerHTML = docLinkHtml;\n",
              "          element.appendChild(docLink);\n",
              "        }\n",
              "      </script>\n",
              "    </div>\n",
              "  </div>\n",
              "  "
            ]
          },
          "metadata": {},
          "execution_count": 5
        }
      ]
    },
    {
      "cell_type": "code",
      "source": [
        "X = cancer.data\n",
        "y = cancer.target"
      ],
      "metadata": {
        "id": "_EhSv0dpDFrd"
      },
      "execution_count": null,
      "outputs": []
    },
    {
      "cell_type": "code",
      "source": [
        "from sklearn.model_selection import train_test_split"
      ],
      "metadata": {
        "id": "7e5Vk7OC4Q6Q"
      },
      "execution_count": null,
      "outputs": []
    },
    {
      "cell_type": "code",
      "source": [
        "from sklearn.preprocessing import MinMaxScaler"
      ],
      "metadata": {
        "id": "89-xoqkxA5Yt"
      },
      "execution_count": null,
      "outputs": []
    },
    {
      "cell_type": "code",
      "source": [
        "X_train, X_test, y_train, y_test = train_test_split(X, y, test_size=0.3,random_state=123)"
      ],
      "metadata": {
        "id": "fsLSXFaE4gIX"
      },
      "execution_count": null,
      "outputs": []
    },
    {
      "cell_type": "code",
      "source": [
        "X_train"
      ],
      "metadata": {
        "colab": {
          "base_uri": "https://localhost:8080/"
        },
        "id": "P4FmL88GBKaG",
        "outputId": "1a16b2fb-560f-4908-afd2-5adcda0e28b9"
      },
      "execution_count": null,
      "outputs": [
        {
          "output_type": "execute_result",
          "data": {
            "text/plain": [
              "array([[1.151e+01, 2.393e+01, 7.452e+01, ..., 9.653e-02, 2.112e-01,\n",
              "        8.732e-02],\n",
              "       [1.377e+01, 1.327e+01, 8.806e+01, ..., 5.802e-02, 2.823e-01,\n",
              "        6.794e-02],\n",
              "       [1.719e+01, 2.207e+01, 1.116e+02, ..., 1.984e-01, 3.216e-01,\n",
              "        7.570e-02],\n",
              "       ...,\n",
              "       [1.205e+01, 2.272e+01, 7.875e+01, ..., 1.092e-01, 2.191e-01,\n",
              "        9.349e-02],\n",
              "       [2.044e+01, 2.178e+01, 1.338e+02, ..., 1.765e-01, 2.609e-01,\n",
              "        6.735e-02],\n",
              "       [1.174e+01, 1.469e+01, 7.631e+01, ..., 1.056e-01, 2.604e-01,\n",
              "        9.879e-02]])"
            ]
          },
          "metadata": {},
          "execution_count": 92
        }
      ]
    },
    {
      "cell_type": "code",
      "source": [
        "scaler = MinMaxScaler()\n",
        "scaler.fit(X_train)\n",
        "X_train = scaler.transform(X_train)"
      ],
      "metadata": {
        "id": "_szzzokpE-Hz"
      },
      "execution_count": null,
      "outputs": []
    },
    {
      "cell_type": "code",
      "source": [
        "print(X_train)"
      ],
      "metadata": {
        "colab": {
          "base_uri": "https://localhost:8080/"
        },
        "id": "dAFtqBiZF0qN",
        "outputId": "b3781ae3-a355-4608-c7b3-c3419438f871"
      },
      "execution_count": null,
      "outputs": [
        {
          "output_type": "stream",
          "name": "stdout",
          "text": [
            "[[0.19357291 0.46885813 0.19139445 ... 0.33171821 0.10782574 0.27365209]\n",
            " [0.3081251  0.1        0.28881854 ... 0.19938144 0.2479795  0.1093591 ]\n",
            " [0.48147397 0.40449827 0.45819542 ... 0.68178694 0.32544845 0.17514412]\n",
            " ...\n",
            " [0.22094379 0.42698962 0.22183048 ... 0.37525773 0.12339838 0.32595795]\n",
            " [0.64620609 0.39446367 0.61793064 ... 0.60652921 0.20579539 0.10435741]\n",
            " [0.20523088 0.14913495 0.204274   ... 0.3628866  0.20480978 0.37088844]]\n"
          ]
        }
      ]
    },
    {
      "cell_type": "code",
      "source": [
        "X_test = scaler.transform(X_test)"
      ],
      "metadata": {
        "id": "uZceLIvLFcuv"
      },
      "execution_count": null,
      "outputs": []
    },
    {
      "cell_type": "code",
      "source": [
        "print(X_test)"
      ],
      "metadata": {
        "colab": {
          "base_uri": "https://localhost:8080/"
        },
        "id": "eDWEPH_bF4A-",
        "outputId": "13697173-102d-4343-aaf4-1b215484a36e"
      },
      "execution_count": null,
      "outputs": [
        {
          "output_type": "stream",
          "name": "stdout",
          "text": [
            "[[0.18039434 0.15224913 0.16880127 ... 0.05728522 0.24640252 0.16225839]\n",
            " [0.10395864 0.18304498 0.0977119  ... 0.17728522 0.2515277  0.22643269]\n",
            " [0.49921435 0.30934256 0.4833789  ... 0.66632302 0.26867731 0.20032214]\n",
            " ...\n",
            " [0.57676517 0.49930796 0.5783566  ... 0.85670103 0.61206387 0.41336046]\n",
            " [0.63302752 0.31695502 0.61793064 ... 0.7467354  0.289178   0.21795524]\n",
            " [0.1651883  0.37958478 0.17254281 ... 0.48934708 0.2757737  0.347745  ]]\n"
          ]
        }
      ]
    },
    {
      "cell_type": "code",
      "source": [
        "X_train.var()"
      ],
      "metadata": {
        "colab": {
          "base_uri": "https://localhost:8080/"
        },
        "id": "GJqowLDE4lD3",
        "outputId": "2260226b-54eb-4a02-9a6c-d4e7513a621d"
      },
      "execution_count": null,
      "outputs": [
        {
          "output_type": "execute_result",
          "data": {
            "text/plain": [
              "0.0304444202098801"
            ]
          },
          "metadata": {},
          "execution_count": 100
        }
      ]
    },
    {
      "cell_type": "code",
      "source": [
        "from sklearn import svm\n",
        "\n",
        "clf = svm.SVC(kernel='linear')\n",
        "\n",
        "\n",
        "clf.fit(X_train, y_train)\n",
        "\n",
        "\n",
        "y_pred = clf.predict(X_test)"
      ],
      "metadata": {
        "id": "1kf9AvH842pY"
      },
      "execution_count": null,
      "outputs": []
    },
    {
      "cell_type": "code",
      "source": [
        "from sklearn import metrics\n",
        "\n",
        "print(\"Accuracy:\", metrics.accuracy_score(y_test, y_pred))"
      ],
      "metadata": {
        "colab": {
          "base_uri": "https://localhost:8080/"
        },
        "id": "qDJStFnM49e8",
        "outputId": "074c59bb-899e-4939-a00f-fa131d130c17"
      },
      "execution_count": null,
      "outputs": [
        {
          "output_type": "stream",
          "name": "stdout",
          "text": [
            "Accuracy: 0.9883040935672515\n"
          ]
        }
      ]
    },
    {
      "cell_type": "code",
      "source": [
        "y_pred_train = clf.predict(X_train)\n",
        "print(\"Accuracy on Training:\", metrics.accuracy_score(y_train, y_pred_train))"
      ],
      "metadata": {
        "colab": {
          "base_uri": "https://localhost:8080/"
        },
        "id": "aC0V3JY85EqH",
        "outputId": "221187d8-ef17-4952-b6be-21236a594fff"
      },
      "execution_count": null,
      "outputs": [
        {
          "output_type": "stream",
          "name": "stdout",
          "text": [
            "Accuracy on Training: 0.9748743718592965\n"
          ]
        }
      ]
    },
    {
      "cell_type": "code",
      "source": [
        "clf.support_vectors_.shape"
      ],
      "metadata": {
        "colab": {
          "base_uri": "https://localhost:8080/"
        },
        "id": "_fYeOfMS7a7Z",
        "outputId": "5dec65bf-4484-40af-cd05-a51745a2e231"
      },
      "execution_count": null,
      "outputs": [
        {
          "output_type": "execute_result",
          "data": {
            "text/plain": [
              "(74, 30)"
            ]
          },
          "metadata": {},
          "execution_count": 104
        }
      ]
    },
    {
      "cell_type": "code",
      "source": [
        "clf.support_vectors_"
      ],
      "metadata": {
        "colab": {
          "base_uri": "https://localhost:8080/"
        },
        "id": "dapFXCqs5LzI",
        "outputId": "77b08fd8-55a9-4a4d-efc2-e43bee129c59"
      },
      "execution_count": null,
      "outputs": [
        {
          "output_type": "execute_result",
          "data": {
            "text/plain": [
              "array([[0.38466217, 0.41626298, 0.36695927, ..., 0.42130584, 0.31736645,\n",
              "        0.36181757],\n",
              "       [0.21029956, 0.28788927, 0.21593035, ..., 0.53127148, 0.63000197,\n",
              "        0.72193964],\n",
              "       [0.38922398, 0.4283737 , 0.37616923, ..., 0.50721649, 0.19534792,\n",
              "        0.11224144],\n",
              "       ...,\n",
              "       [0.06781895, 0.24048443, 0.07821269, ..., 0.60137457, 0.52493594,\n",
              "        0.52950153],\n",
              "       [0.2746718 , 0.42076125, 0.28133544, ..., 0.38694158, 0.50522373,\n",
              "        0.44557477],\n",
              "       [0.2001622 , 0.27508651, 0.19607138, ..., 0.4185567 , 0.24462842,\n",
              "        0.30459478]])"
            ]
          },
          "metadata": {},
          "execution_count": 105
        }
      ]
    },
    {
      "cell_type": "code",
      "source": [
        "clf.support_"
      ],
      "metadata": {
        "colab": {
          "base_uri": "https://localhost:8080/"
        },
        "id": "6eICBbhj7FLY",
        "outputId": "55ba4d07-2227-429f-9629-a9ac666c45e7"
      },
      "execution_count": null,
      "outputs": [
        {
          "output_type": "execute_result",
          "data": {
            "text/plain": [
              "array([ 17,  38,  58,  60,  87,  88, 100, 116, 137, 150, 161, 171, 184,\n",
              "       188, 192, 198, 206, 225, 226, 238, 243, 262, 274, 276, 287, 297,\n",
              "       318, 347, 352, 357, 363, 367, 368, 372, 385,  23,  33,  44,  67,\n",
              "        74,  76,  77,  91,  94,  96, 102, 110, 112, 115, 117, 120, 124,\n",
              "       152, 160, 170, 182, 183, 185, 196, 227, 242, 244, 263, 277, 282,\n",
              "       285, 290, 316, 335, 356, 373, 376, 377, 391], dtype=int32)"
            ]
          },
          "metadata": {},
          "execution_count": 106
        }
      ]
    },
    {
      "cell_type": "code",
      "source": [
        "clf.n_support_"
      ],
      "metadata": {
        "colab": {
          "base_uri": "https://localhost:8080/"
        },
        "id": "yft9xrDN7OeP",
        "outputId": "9bb4cef2-424f-4b8e-ebc8-ed220979f1a4"
      },
      "execution_count": null,
      "outputs": [
        {
          "output_type": "execute_result",
          "data": {
            "text/plain": [
              "array([35, 39], dtype=int32)"
            ]
          },
          "metadata": {},
          "execution_count": 107
        }
      ]
    },
    {
      "cell_type": "code",
      "source": [
        "len(clf.support_)"
      ],
      "metadata": {
        "colab": {
          "base_uri": "https://localhost:8080/"
        },
        "id": "icyAn6iU7Bnt",
        "outputId": "e99e582c-9590-4e41-acf8-20dfc3a32da8"
      },
      "execution_count": null,
      "outputs": [
        {
          "output_type": "execute_result",
          "data": {
            "text/plain": [
              "74"
            ]
          },
          "metadata": {},
          "execution_count": 108
        }
      ]
    },
    {
      "cell_type": "code",
      "source": [
        "clf.coef_"
      ],
      "metadata": {
        "colab": {
          "base_uri": "https://localhost:8080/"
        },
        "id": "Yspk_xnQ8jLR",
        "outputId": "961f0078-bff8-41a2-bbb9-9a36959aeb50"
      },
      "execution_count": null,
      "outputs": [
        {
          "output_type": "execute_result",
          "data": {
            "text/plain": [
              "array([[-1.22223498, -1.28169542, -1.11807393, -1.06765568, -0.3567051 ,\n",
              "         0.31753915, -0.85340739, -1.20717282, -0.7550018 ,  0.81193256,\n",
              "        -1.25594908, -0.38020738, -1.05016404, -0.74425197, -0.76176364,\n",
              "         0.82942234,  0.07522007, -0.19703461,  0.05378627,  0.40831035,\n",
              "        -1.78398339, -1.970372  , -1.6048979 , -1.32594014, -1.34498035,\n",
              "        -0.17767574, -0.90651717, -1.51377904, -1.53934982, -0.18560617]])"
            ]
          },
          "metadata": {},
          "execution_count": 109
        }
      ]
    },
    {
      "cell_type": "code",
      "source": [
        "len(clf.coef_[0])"
      ],
      "metadata": {
        "colab": {
          "base_uri": "https://localhost:8080/"
        },
        "id": "Jcck5eoU8saP",
        "outputId": "18150e60-73b0-4034-d566-c6e9694843d0"
      },
      "execution_count": null,
      "outputs": [
        {
          "output_type": "execute_result",
          "data": {
            "text/plain": [
              "30"
            ]
          },
          "metadata": {},
          "execution_count": 110
        }
      ]
    },
    {
      "cell_type": "code",
      "source": [
        "clf.dual_coef_"
      ],
      "metadata": {
        "colab": {
          "base_uri": "https://localhost:8080/"
        },
        "id": "PNfwqtMm9B30",
        "outputId": "0d5f425b-30f8-4e52-b61b-1b85241f04b1"
      },
      "execution_count": null,
      "outputs": [
        {
          "output_type": "execute_result",
          "data": {
            "text/plain": [
              "array([[-1.        , -0.94097271, -1.        , -1.        , -1.        ,\n",
              "        -1.        , -1.        , -1.        , -1.        , -1.        ,\n",
              "        -1.        , -1.        , -1.        , -1.        , -1.        ,\n",
              "        -1.        , -1.        , -1.        , -1.        , -1.        ,\n",
              "        -1.        , -1.        , -1.        , -1.        , -1.        ,\n",
              "        -1.        , -1.        , -1.        , -1.        , -1.        ,\n",
              "        -1.        , -1.        , -1.        , -1.        , -1.        ,\n",
              "         1.        ,  0.39732048,  1.        ,  1.        ,  0.00558856,\n",
              "         1.        ,  1.        ,  0.29780072,  1.        ,  1.        ,\n",
              "         1.        ,  1.        ,  1.        ,  0.23851685,  1.        ,\n",
              "         1.        ,  1.        ,  1.        ,  1.        ,  1.        ,\n",
              "         1.        ,  0.76383167,  1.        ,  1.        ,  1.        ,\n",
              "         1.        ,  1.        ,  1.        ,  1.        ,  0.98223264,\n",
              "         1.        ,  1.        ,  1.        ,  1.        ,  1.        ,\n",
              "         1.        ,  0.25568179,  1.        ,  1.        ]])"
            ]
          },
          "metadata": {},
          "execution_count": 111
        }
      ]
    },
    {
      "cell_type": "code",
      "source": [
        "clf.dual_coef_.shape"
      ],
      "metadata": {
        "colab": {
          "base_uri": "https://localhost:8080/"
        },
        "id": "Mcpuz4D59SM1",
        "outputId": "318e30fd-5680-45da-f920-bd9783c93123"
      },
      "execution_count": null,
      "outputs": [
        {
          "output_type": "execute_result",
          "data": {
            "text/plain": [
              "(1, 74)"
            ]
          },
          "metadata": {},
          "execution_count": 112
        }
      ]
    },
    {
      "cell_type": "code",
      "source": [
        "len(clf.dual_coef_[0])"
      ],
      "metadata": {
        "colab": {
          "base_uri": "https://localhost:8080/"
        },
        "id": "QcYuBiyu9XXg",
        "outputId": "595d2296-7d43-48f6-9e2d-12c5f1df752d"
      },
      "execution_count": null,
      "outputs": [
        {
          "output_type": "execute_result",
          "data": {
            "text/plain": [
              "74"
            ]
          },
          "metadata": {},
          "execution_count": 113
        }
      ]
    },
    {
      "cell_type": "code",
      "source": [
        "clf.predict([X_train[1]])"
      ],
      "metadata": {
        "colab": {
          "base_uri": "https://localhost:8080/"
        },
        "id": "BHU2qSu49nJF",
        "outputId": "e9eb2023-09ca-4f45-b613-3f3b0c36c1df"
      },
      "execution_count": null,
      "outputs": [
        {
          "output_type": "execute_result",
          "data": {
            "text/plain": [
              "array([1])"
            ]
          },
          "metadata": {},
          "execution_count": 114
        }
      ]
    },
    {
      "cell_type": "code",
      "source": [
        "clf.intercept_"
      ],
      "metadata": {
        "colab": {
          "base_uri": "https://localhost:8080/"
        },
        "id": "IlAVjCwo9qbD",
        "outputId": "817cb407-c907-45b2-87db-57c859e31fd1"
      },
      "execution_count": null,
      "outputs": [
        {
          "output_type": "execute_result",
          "data": {
            "text/plain": [
              "array([6.25402963])"
            ]
          },
          "metadata": {},
          "execution_count": 115
        }
      ]
    },
    {
      "cell_type": "code",
      "source": [
        "clf.decision_function([X_train[0]])"
      ],
      "metadata": {
        "colab": {
          "base_uri": "https://localhost:8080/"
        },
        "id": "xnMogq8T-pVs",
        "outputId": "287096c8-a4c6-4a80-945e-43887edb2203"
      },
      "execution_count": null,
      "outputs": [
        {
          "output_type": "execute_result",
          "data": {
            "text/plain": [
              "array([-3.85412789])"
            ]
          },
          "metadata": {},
          "execution_count": 24
        }
      ]
    },
    {
      "cell_type": "code",
      "source": [
        "clf.dual_coef_ @ clf.support_vectors_"
      ],
      "metadata": {
        "colab": {
          "base_uri": "https://localhost:8080/"
        },
        "id": "ItRsizmh-twU",
        "outputId": "d2f0b319-f985-477b-ef18-a1447f3e0527"
      },
      "execution_count": null,
      "outputs": [
        {
          "output_type": "execute_result",
          "data": {
            "text/plain": [
              "array([[-1.22223498, -1.28169542, -1.11807393, -1.06765568, -0.3567051 ,\n",
              "         0.31753915, -0.85340739, -1.20717282, -0.7550018 ,  0.81193256,\n",
              "        -1.25594908, -0.38020738, -1.05016404, -0.74425197, -0.76176364,\n",
              "         0.82942234,  0.07522007, -0.19703461,  0.05378627,  0.40831035,\n",
              "        -1.78398339, -1.970372  , -1.6048979 , -1.32594014, -1.34498035,\n",
              "        -0.17767574, -0.90651717, -1.51377904, -1.53934982, -0.18560617]])"
            ]
          },
          "metadata": {},
          "execution_count": 116
        }
      ]
    },
    {
      "cell_type": "code",
      "source": [
        "(clf.dual_coef_ @ clf.support_vectors_).shape"
      ],
      "metadata": {
        "colab": {
          "base_uri": "https://localhost:8080/"
        },
        "id": "kcVq6wfy-wgm",
        "outputId": "c9a69bc8-52ee-4093-8b34-ffcc9ba1aa74"
      },
      "execution_count": null,
      "outputs": [
        {
          "output_type": "execute_result",
          "data": {
            "text/plain": [
              "(1, 30)"
            ]
          },
          "metadata": {},
          "execution_count": 117
        }
      ]
    },
    {
      "cell_type": "code",
      "source": [
        "X_train[0].reshape(1, len(X_train[0])).T"
      ],
      "metadata": {
        "colab": {
          "base_uri": "https://localhost:8080/"
        },
        "id": "JUXVVEiI-2Ww",
        "outputId": "8cfeba38-d003-4b6b-9a5b-ea7059af1151"
      },
      "execution_count": null,
      "outputs": [
        {
          "output_type": "execute_result",
          "data": {
            "text/plain": [
              "array([[0.19357291],\n",
              "       [0.46885813],\n",
              "       [0.19139445],\n",
              "       [0.10001716],\n",
              "       [0.36092805],\n",
              "       [0.23706491],\n",
              "       [0.26054358],\n",
              "       [0.20402584],\n",
              "       [0.16565657],\n",
              "       [0.331508  ],\n",
              "       [0.05226853],\n",
              "       [0.71944114],\n",
              "       [0.06589169],\n",
              "       [0.01899148],\n",
              "       [0.19439272],\n",
              "       [0.25929508],\n",
              "       [0.14489899],\n",
              "       [0.24000758],\n",
              "       [0.09846907],\n",
              "       [0.13277504],\n",
              "       [0.13895183],\n",
              "       [0.66585695],\n",
              "       [0.14127396],\n",
              "       [0.06217745],\n",
              "       [0.33001227],\n",
              "       [0.232979  ],\n",
              "       [0.2899361 ],\n",
              "       [0.33171821],\n",
              "       [0.10782574],\n",
              "       [0.27365209]])"
            ]
          },
          "metadata": {},
          "execution_count": 118
        }
      ]
    },
    {
      "cell_type": "code",
      "source": [
        "X_train[0].reshape(1, len(X_train[0])).T.shape"
      ],
      "metadata": {
        "colab": {
          "base_uri": "https://localhost:8080/"
        },
        "id": "3EG-yfuu-8j6",
        "outputId": "52f13060-1f2b-4b03-d2a1-af3767217216"
      },
      "execution_count": null,
      "outputs": [
        {
          "output_type": "execute_result",
          "data": {
            "text/plain": [
              "(30, 1)"
            ]
          },
          "metadata": {},
          "execution_count": 119
        }
      ]
    },
    {
      "cell_type": "code",
      "source": [
        "((clf.dual_coef_ @ clf.support_vectors_) @ X_train[1].reshape(1, len(X_train[1])).T + clf.intercept_)[0][0]"
      ],
      "metadata": {
        "colab": {
          "base_uri": "https://localhost:8080/"
        },
        "id": "g9Fn0H-H-9o8",
        "outputId": "c75fc330-2160-4ed9-cff4-7a42062fbc0e"
      },
      "execution_count": null,
      "outputs": [
        {
          "output_type": "execute_result",
          "data": {
            "text/plain": [
              "2.6518997615998696"
            ]
          },
          "metadata": {},
          "execution_count": 120
        }
      ]
    },
    {
      "cell_type": "code",
      "source": [
        "!pip install z3-solver"
      ],
      "metadata": {
        "colab": {
          "base_uri": "https://localhost:8080/"
        },
        "id": "KHUfdOhb_KHE",
        "outputId": "bb4ebf54-da0f-4bee-8920-060983c934d6"
      },
      "execution_count": null,
      "outputs": [
        {
          "output_type": "stream",
          "name": "stdout",
          "text": [
            "Looking in indexes: https://pypi.org/simple, https://us-python.pkg.dev/colab-wheels/public/simple/\n",
            "Requirement already satisfied: z3-solver in /usr/local/lib/python3.7/dist-packages (4.8.17.0)\n"
          ]
        }
      ]
    },
    {
      "cell_type": "code",
      "source": [
        "from z3 import *"
      ],
      "metadata": {
        "id": "rcl4SPMW_Pxb"
      },
      "execution_count": null,
      "outputs": []
    },
    {
      "cell_type": "code",
      "source": [
        "cancer.feature_names"
      ],
      "metadata": {
        "colab": {
          "base_uri": "https://localhost:8080/"
        },
        "id": "Sk5dB01g_SlV",
        "outputId": "97a7337a-c309-48c8-dc2c-b1772af22438"
      },
      "execution_count": null,
      "outputs": [
        {
          "output_type": "execute_result",
          "data": {
            "text/plain": [
              "array(['mean radius', 'mean texture', 'mean perimeter', 'mean area',\n",
              "       'mean smoothness', 'mean compactness', 'mean concavity',\n",
              "       'mean concave points', 'mean symmetry', 'mean fractal dimension',\n",
              "       'radius error', 'texture error', 'perimeter error', 'area error',\n",
              "       'smoothness error', 'compactness error', 'concavity error',\n",
              "       'concave points error', 'symmetry error',\n",
              "       'fractal dimension error', 'worst radius', 'worst texture',\n",
              "       'worst perimeter', 'worst area', 'worst smoothness',\n",
              "       'worst compactness', 'worst concavity', 'worst concave points',\n",
              "       'worst symmetry', 'worst fractal dimension'], dtype='<U23')"
            ]
          },
          "metadata": {},
          "execution_count": 122
        }
      ]
    },
    {
      "cell_type": "code",
      "source": [
        "cancer.target_names"
      ],
      "metadata": {
        "colab": {
          "base_uri": "https://localhost:8080/"
        },
        "id": "CQ3V_rt7_TyT",
        "outputId": "24c4350e-944e-4504-836c-9d8c5a928cee"
      },
      "execution_count": null,
      "outputs": [
        {
          "output_type": "execute_result",
          "data": {
            "text/plain": [
              "array(['malignant', 'benign'], dtype='<U9')"
            ]
          },
          "metadata": {},
          "execution_count": 123
        }
      ]
    },
    {
      "cell_type": "code",
      "source": [
        "dict_vars = {}\n",
        "for feature in cancer.feature_names:\n",
        "  dict_vars[feature] = Real(feature)"
      ],
      "metadata": {
        "id": "uP3JGYB9_Y7Y"
      },
      "execution_count": null,
      "outputs": []
    },
    {
      "cell_type": "code",
      "source": [
        "dict_vars"
      ],
      "metadata": {
        "colab": {
          "base_uri": "https://localhost:8080/"
        },
        "id": "iEfryIjS_cZd",
        "outputId": "6c350dd1-38b6-46fb-958d-2fcd740ade30"
      },
      "execution_count": null,
      "outputs": [
        {
          "output_type": "execute_result",
          "data": {
            "text/plain": [
              "{'area error': area error,\n",
              " 'compactness error': compactness error,\n",
              " 'concave points error': concave points error,\n",
              " 'concavity error': concavity error,\n",
              " 'fractal dimension error': fractal dimension error,\n",
              " 'mean area': mean area,\n",
              " 'mean compactness': mean compactness,\n",
              " 'mean concave points': mean concave points,\n",
              " 'mean concavity': mean concavity,\n",
              " 'mean fractal dimension': mean fractal dimension,\n",
              " 'mean perimeter': mean perimeter,\n",
              " 'mean radius': mean radius,\n",
              " 'mean smoothness': mean smoothness,\n",
              " 'mean symmetry': mean symmetry,\n",
              " 'mean texture': mean texture,\n",
              " 'perimeter error': perimeter error,\n",
              " 'radius error': radius error,\n",
              " 'smoothness error': smoothness error,\n",
              " 'symmetry error': symmetry error,\n",
              " 'texture error': texture error,\n",
              " 'worst area': worst area,\n",
              " 'worst compactness': worst compactness,\n",
              " 'worst concave points': worst concave points,\n",
              " 'worst concavity': worst concavity,\n",
              " 'worst fractal dimension': worst fractal dimension,\n",
              " 'worst perimeter': worst perimeter,\n",
              " 'worst radius': worst radius,\n",
              " 'worst smoothness': worst smoothness,\n",
              " 'worst symmetry': worst symmetry,\n",
              " 'worst texture': worst texture}"
            ]
          },
          "metadata": {},
          "execution_count": 125
        }
      ]
    },
    {
      "cell_type": "code",
      "source": [
        "dict_vars['area error']"
      ],
      "metadata": {
        "colab": {
          "base_uri": "https://localhost:8080/",
          "height": 34
        },
        "id": "fxamKYdS_gLx",
        "outputId": "ab84bb1a-e78b-4317-eda2-415db2bf3d4f"
      },
      "execution_count": null,
      "outputs": [
        {
          "output_type": "execute_result",
          "data": {
            "text/plain": [
              "area error"
            ],
            "text/html": [
              "area error"
            ]
          },
          "metadata": {},
          "execution_count": 126
        }
      ]
    },
    {
      "cell_type": "code",
      "source": [
        "constraints = Solver()"
      ],
      "metadata": {
        "id": "SA9y6xpC_lZM"
      },
      "execution_count": null,
      "outputs": []
    },
    {
      "cell_type": "code",
      "source": [
        "constraints.add(dict_vars['area error'] > 2)\n",
        "constraints.add(dict_vars['compactness error'] < 10)\n",
        "constraints.add(dict_vars['compactness error'] > 2)\n",
        "constraints.add(dict_vars['area error'] * dict_vars['compactness error'] == 27)"
      ],
      "metadata": {
        "id": "KcxRnQ9z_pdh"
      },
      "execution_count": null,
      "outputs": []
    },
    {
      "cell_type": "code",
      "source": [
        "constraints.assertions"
      ],
      "metadata": {
        "colab": {
          "base_uri": "https://localhost:8080/"
        },
        "id": "b_FwBMsk_sDE",
        "outputId": "e4ffa8ee-95b3-401c-8b64-a74f0b6a664c"
      },
      "execution_count": null,
      "outputs": [
        {
          "output_type": "execute_result",
          "data": {
            "text/plain": [
              "<bound method Solver.assertions of [area error > 2,\n",
              " compactness error < 10,\n",
              " compactness error > 2,\n",
              " area error*compactness error == 27]>"
            ]
          },
          "metadata": {},
          "execution_count": 129
        }
      ]
    },
    {
      "cell_type": "code",
      "source": [
        "constraints.check()"
      ],
      "metadata": {
        "colab": {
          "base_uri": "https://localhost:8080/",
          "height": 34
        },
        "id": "ScFkP7zH_vbo",
        "outputId": "c20d79d5-e0d5-4608-f17b-a32e725456ea"
      },
      "execution_count": null,
      "outputs": [
        {
          "output_type": "execute_result",
          "data": {
            "text/plain": [
              "sat"
            ],
            "text/html": [
              "<b>sat</b>"
            ]
          },
          "metadata": {},
          "execution_count": 130
        }
      ]
    },
    {
      "cell_type": "code",
      "source": [
        "constraints.model()"
      ],
      "metadata": {
        "id": "LJEqDJNg_0Zx",
        "outputId": "59a095e1-62da-40f8-9807-68900cd10c1d",
        "colab": {
          "base_uri": "https://localhost:8080/",
          "height": 34
        }
      },
      "execution_count": null,
      "outputs": [
        {
          "output_type": "execute_result",
          "data": {
            "text/plain": [
              "[compactness error = 3, area error = 9]"
            ],
            "text/html": [
              "[compactness error = 3, area error = 9]"
            ]
          },
          "metadata": {},
          "execution_count": 131
        }
      ]
    },
    {
      "cell_type": "code",
      "source": [
        "np.RealVal = np.vectorize(RealVal) \n",
        "np.RealVector = np.vectorize(RealVector)"
      ],
      "metadata": {
        "id": "xdAzb74LGrUa"
      },
      "execution_count": null,
      "outputs": []
    },
    {
      "cell_type": "code",
      "source": [
        "z3_dual_coef = np.RealVal(clf.dual_coef_)\n",
        "z3_support_vectors = np.RealVal(clf.support_vectors_)\n",
        "z3_intercept_ = np.RealVal(clf.intercept_)\n",
        "z3_X_Train = np.RealVector('x',X_train.shape[1])"
      ],
      "metadata": {
        "id": "t12TeFtrG8H9"
      },
      "execution_count": null,
      "outputs": []
    },
    {
      "cell_type": "code",
      "source": [
        "print(X_train)"
      ],
      "metadata": {
        "colab": {
          "base_uri": "https://localhost:8080/"
        },
        "id": "cl6bU1giG_QL",
        "outputId": "ffb1c10c-ed10-4bf9-fbc6-7b110fa9a085"
      },
      "execution_count": null,
      "outputs": [
        {
          "output_type": "stream",
          "name": "stdout",
          "text": [
            "[[0.19357291 0.46885813 0.19139445 ... 0.33171821 0.10782574 0.27365209]\n",
            " [0.3081251  0.1        0.28881854 ... 0.19938144 0.2479795  0.1093591 ]\n",
            " [0.48147397 0.40449827 0.45819542 ... 0.68178694 0.32544845 0.17514412]\n",
            " ...\n",
            " [0.22094379 0.42698962 0.22183048 ... 0.37525773 0.12339838 0.32595795]\n",
            " [0.64620609 0.39446367 0.61793064 ... 0.60652921 0.20579539 0.10435741]\n",
            " [0.20523088 0.14913495 0.204274   ... 0.3628866  0.20480978 0.37088844]]\n"
          ]
        }
      ]
    },
    {
      "cell_type": "code",
      "source": [
        "z3_X_Train"
      ],
      "metadata": {
        "colab": {
          "base_uri": "https://localhost:8080/"
        },
        "id": "wCgGb9g9HD_q",
        "outputId": "1a2fc98c-516a-4bed-c452-1ffedf8f54f2"
      },
      "execution_count": null,
      "outputs": [
        {
          "output_type": "execute_result",
          "data": {
            "text/plain": [
              "array([x__0, x__1, x__2, x__3, x__4, x__5, x__6, x__7, x__8, x__9, x__10,\n",
              "       x__11, x__12, x__13, x__14, x__15, x__16, x__17, x__18, x__19,\n",
              "       x__20, x__21, x__22, x__23, x__24, x__25, x__26, x__27, x__28,\n",
              "       x__29], dtype=object)"
            ]
          },
          "metadata": {},
          "execution_count": 135
        }
      ]
    },
    {
      "cell_type": "code",
      "source": [
        "print(clf.predict(X_train[0:10]))"
      ],
      "metadata": {
        "colab": {
          "base_uri": "https://localhost:8080/"
        },
        "id": "kvGPZys6HIPS",
        "outputId": "e33f5235-db3a-4221-b457-362db0a1eca6"
      },
      "execution_count": null,
      "outputs": [
        {
          "output_type": "stream",
          "name": "stdout",
          "text": [
            "[1 1 0 1 0 1 1 0 1 1]\n"
          ]
        }
      ]
    },
    {
      "cell_type": "code",
      "source": [
        "def unfixed_list(X, z3_coef, z3_sup_vec, z3_X, z3_intercept, crescent_order=True,show_values=False):\n",
        "    satisfatible = []\n",
        "    unsatisfatible = []\n",
        "    global_values = []\n",
        "    print(\"Number of instances: \",len(X))\n",
        "    if crescent_order:\n",
        "        for i in [0, 7]:\n",
        "          \n",
        "          index_list = list(range(len(z3_X)))\n",
        "          unsat_list = []\n",
        "          sat_list = []\n",
        "          values = []  \n",
        "\n",
        "          print(X[i])\n",
        "          print(clf.predict(X[i].reshape(1, -1)))\n",
        "          \n",
        "          for z in range(0, len(z3_X)):\n",
        "            \n",
        "            solver2 = Solver()\n",
        "            if clf.predict(X[i].reshape(1, -1))[0] == 1:\n",
        "              solver2.add(((z3_coef @ z3_sup_vec) @ z3_X.reshape(1, len(z3_X)).T + z3_intercept)[0][0] < 0)\n",
        "            else:\n",
        "              solver2.add(((z3_coef @ z3_sup_vec) @ z3_X.reshape(1, len(z3_X)).T + z3_intercept)[0][0] > 0)\n",
        "            for j in range(0, len(z3_X)):\n",
        "              solver2.add(z3_X[j] >=0)\n",
        "              solver2.add(z3_X[j] <=1)\n",
        "            used_list = []\n",
        "            for j in range(0, len(z3_X)):\n",
        "              if j != z and j in index_list: \n",
        "                solver2.add(z3_X[j] == X[i][j])\n",
        "                \n",
        "                used_list.append(j)\n",
        "\n",
        "            check = solver2.check()\n",
        "            \n",
        "            if check == sat:         \n",
        "              model = solver2.model()\n",
        "              value = model[z3_X[z]].numerator_as_long()/model[z3_X[z]].denominator_as_long()\n",
        "              sat_list.append(z)\n",
        "              values.append(value)\n",
        "              if show_values:  \n",
        "                  print('i = ',i,z, check, X[i][j], value)\n",
        "            else:\n",
        "              unsat_list.append(z)\n",
        "              index_list.remove(z)\n",
        "              if show_values:\n",
        "                  print('i = ',i, z, check)  \n",
        "          print(\"Finished \",i)\n",
        "          satisfatible.append(sat_list)\n",
        "          unsatisfatible.append(unsat_list)\n",
        "          global_values.append(values)\n",
        "              \n",
        "               \n",
        "    for i in range(0, len(satisfatible)):\n",
        "        print('Instância ',i,'\\nSatisfatível: ', satisfatible[i],'\\nValores: ',global_values,'\\nInsatisfatível: ',unsatisfatible[i],'\\n\\n')\n",
        "    return satisfatible, unsatisfatible"
      ],
      "metadata": {
        "id": "MVdqPUn-HMbu"
      },
      "execution_count": null,
      "outputs": []
    },
    {
      "cell_type": "code",
      "source": [
        "simplify(((z3_dual_coef @ z3_support_vectors) @ z3_X_Train.reshape(1, len(z3_X_Train)).T + z3_intercept_)[0][0] < 0)"
      ],
      "metadata": {
        "colab": {
          "base_uri": "https://localhost:8080/",
          "height": 429
        },
        "id": "-G3yGcdkHlRV",
        "outputId": "dcd472ef-4b6a-442c-8229-93fe9d6ca2eb"
      },
      "execution_count": null,
      "outputs": [
        {
          "output_type": "execute_result",
          "data": {
            "text/plain": [
              "Not(-6254029628707463/1000000000000000 <=\n",
              "    -61111748873313956668785345455226757/50000000000000000000000000000000000*\n",
              "    x__0 +\n",
              "    -12816954245912384551482741553966629/10000000000000000000000000000000000*\n",
              "    x__1 +\n",
              "    -13975924107855230714339406190220237/12500000000000000000000000000000000*\n",
              "    x__2 +\n",
              "    -10676556805469204237112814276247893/10000000000000000000000000000000000*\n",
              "    x__3 +\n",
              "    -17835254918666467611828071659227/50000000000000000000000000000000*\n",
              "    x__4 +\n",
              "    31753915498993993858736324632680057/100000000000000000000000000000000000*\n",
              "    x__5 +\n",
              "    -42670369559714728500478704117727403/50000000000000000000000000000000000*\n",
              "    x__6 +\n",
              "    -60358640907395192575405865022049111/50000000000000000000000000000000000*\n",
              "    x__7 +\n",
              "    -15100035999615379615472726827287193/20000000000000000000000000000000000*\n",
              "    x__8 +\n",
              "    8119325613937612178133984979419843/10000000000000000000000000000000000*\n",
              "    x__9 +\n",
              "    -125594907564116046640062497668162041/100000000000000000000000000000000000*\n",
              "    x__10 +\n",
              "    -3802073789245024183923665781071773/10000000000000000000000000000000000*\n",
              "    x__11 +\n",
              "    -26254100897316964386648601651608107/25000000000000000000000000000000000*\n",
              "    x__12 +\n",
              "    -14885039320412610542070848250966157/20000000000000000000000000000000000*\n",
              "    x__13 +\n",
              "    -76176364351246398483773413998640099/100000000000000000000000000000000000*\n",
              "    x__14 +\n",
              "    82942234386641174500566622858570103/100000000000000000000000000000000000*\n",
              "    x__15 +\n",
              "    7522007082081715372594581222903301/100000000000000000000000000000000000*\n",
              "    x__16 +\n",
              "    -3940692227008817199485643337811449/20000000000000000000000000000000000*\n",
              "    x__17 +\n",
              "    336164201929063807758417109851413/6250000000000000000000000000000000*\n",
              "    x__18 +\n",
              "    40831034984307331077458305621308699/100000000000000000000000000000000000*\n",
              "    x__19 +\n",
              "    -35679667813816821699132213814263977/20000000000000000000000000000000000*\n",
              "    x__20 +\n",
              "    -19703719987563788737445220572338239/10000000000000000000000000000000000*\n",
              "    x__21 +\n",
              "    -80244895044911721934532915994289959/50000000000000000000000000000000000*\n",
              "    x__22 +\n",
              "    -2651880274634187073094853932553877/2000000000000000000000000000000000*\n",
              "    x__23 +\n",
              "    -13449803499115253006011338850934679/10000000000000000000000000000000000*\n",
              "    x__24 +\n",
              "    -2220946690125996369179368055306231/12500000000000000000000000000000000*\n",
              "    x__25 +\n",
              "    -226629291737809634992898674058762753/250000000000000000000000000000000000*\n",
              "    x__26 +\n",
              "    -37844476091317284880230566668887799/25000000000000000000000000000000000*\n",
              "    x__27 +\n",
              "    -76967491016665805832135872941179697/50000000000000000000000000000000000*\n",
              "    x__28 +\n",
              "    -18560616914220296727078204458590847/100000000000000000000000000000000000*\n",
              "    x__29)"
            ],
            "text/html": [
              "&not;(-6254029628707463/1000000000000000 &le;\n",
              "  -61111748873313956668785345455226757/50000000000000000000000000000000000&middot;\n",
              "  x<sub>0</sub> +\n",
              "  -12816954245912384551482741553966629/10000000000000000000000000000000000&middot;\n",
              "  x<sub>1</sub> +\n",
              "  -13975924107855230714339406190220237/12500000000000000000000000000000000&middot;\n",
              "  x<sub>2</sub> +\n",
              "  -10676556805469204237112814276247893/10000000000000000000000000000000000&middot;\n",
              "  x<sub>3</sub> +\n",
              "  -17835254918666467611828071659227/50000000000000000000000000000000&middot;\n",
              "  x<sub>4</sub> +\n",
              "  31753915498993993858736324632680057/100000000000000000000000000000000000&middot;\n",
              "  x<sub>5</sub> +\n",
              "  -42670369559714728500478704117727403/50000000000000000000000000000000000&middot;\n",
              "  x<sub>6</sub> +\n",
              "  -60358640907395192575405865022049111/50000000000000000000000000000000000&middot;\n",
              "  x<sub>7</sub> +\n",
              "  -15100035999615379615472726827287193/20000000000000000000000000000000000&middot;\n",
              "  x<sub>8</sub> +\n",
              "  8119325613937612178133984979419843/10000000000000000000000000000000000&middot;\n",
              "  x<sub>9</sub> +\n",
              "  -125594907564116046640062497668162041/100000000000000000000000000000000000&middot;\n",
              "  x<sub>10</sub> +\n",
              "  -3802073789245024183923665781071773/10000000000000000000000000000000000&middot;\n",
              "  x<sub>11</sub> +\n",
              "  -26254100897316964386648601651608107/25000000000000000000000000000000000&middot;\n",
              "  x<sub>12</sub> +\n",
              "  -14885039320412610542070848250966157/20000000000000000000000000000000000&middot;\n",
              "  x<sub>13</sub> +\n",
              "  -76176364351246398483773413998640099/100000000000000000000000000000000000&middot;\n",
              "  x<sub>14</sub> +\n",
              "  82942234386641174500566622858570103/100000000000000000000000000000000000&middot;\n",
              "  x<sub>15</sub> +\n",
              "  7522007082081715372594581222903301/100000000000000000000000000000000000&middot;\n",
              "  x<sub>16</sub> +\n",
              "  -3940692227008817199485643337811449/20000000000000000000000000000000000&middot;\n",
              "  x<sub>17</sub> +\n",
              "  336164201929063807758417109851413/6250000000000000000000000000000000&middot;\n",
              "  x<sub>18</sub> +\n",
              "  40831034984307331077458305621308699/100000000000000000000000000000000000&middot;\n",
              "  x<sub>19</sub> +\n",
              "  -35679667813816821699132213814263977/20000000000000000000000000000000000&middot;\n",
              "  x<sub>20</sub> +\n",
              "  -19703719987563788737445220572338239/10000000000000000000000000000000000&middot;\n",
              "  x<sub>21</sub> +\n",
              "  -80244895044911721934532915994289959/50000000000000000000000000000000000&middot;\n",
              "  x<sub>22</sub> +\n",
              "  -2651880274634187073094853932553877/2000000000000000000000000000000000&middot;\n",
              "  x<sub>23</sub> +\n",
              "  -13449803499115253006011338850934679/10000000000000000000000000000000000&middot;\n",
              "  x<sub>24</sub> +\n",
              "  -2220946690125996369179368055306231/12500000000000000000000000000000000&middot;\n",
              "  x<sub>25</sub> +\n",
              "  -226629291737809634992898674058762753/250000000000000000000000000000000000&middot;\n",
              "  x<sub>26</sub> +\n",
              "  -37844476091317284880230566668887799/25000000000000000000000000000000000&middot;\n",
              "  x<sub>27</sub> +\n",
              "  -76967491016665805832135872941179697/50000000000000000000000000000000000&middot;\n",
              "  x<sub>28</sub> +\n",
              "  -18560616914220296727078204458590847/100000000000000000000000000000000000&middot;\n",
              "  x<sub>29</sub>)"
            ]
          },
          "metadata": {},
          "execution_count": 165
        }
      ]
    },
    {
      "cell_type": "code",
      "source": [
        "satisfatible, unsatisfatible = unfixed_list(X_train,z3_dual_coef,z3_support_vectors,z3_X_Train,z3_intercept_,crescent_order=True, show_values=False)"
      ],
      "metadata": {
        "colab": {
          "base_uri": "https://localhost:8080/"
        },
        "id": "gAkwJ1XRHpND",
        "outputId": "ecafe593-34f6-4605-b002-4b4355a0cc2b"
      },
      "execution_count": null,
      "outputs": [
        {
          "output_type": "stream",
          "name": "stdout",
          "text": [
            "Number of instances:  398\n",
            "[0.19357291 0.46885813 0.19139445 0.10001716 0.36092805 0.23706491\n",
            " 0.26054358 0.20402584 0.16565657 0.331508   0.05226853 0.71944114\n",
            " 0.06589169 0.01899148 0.19439272 0.25929508 0.14489899 0.24000758\n",
            " 0.09846907 0.13277504 0.13895183 0.66585695 0.14127396 0.06217745\n",
            " 0.33001227 0.232979   0.2899361  0.33171821 0.10782574 0.27365209]\n",
            "[1]\n",
            "Finished  0\n",
            "[0.63708247 0.43771626 0.60785725 0.46923539 0.34440733 0.32862966\n",
            " 0.34325211 0.43156064 0.52272727 0.13753159 0.26528434 0.32490525\n",
            " 0.21220589 0.15141633 0.11766153 0.30765659 0.10686869 0.24038644\n",
            " 0.26295942 0.12147783 0.56801403 0.51551957 0.5165472  0.37872171\n",
            " 0.25203956 0.34721617 0.32731629 0.54054983 0.41868717 0.24279417]\n",
            "[0]\n",
            "Finished  7\n",
            "Instância  0 \n",
            "Satisfatível:  [1, 2, 3, 4, 5, 6, 7, 8, 9, 10, 11, 12, 13, 14, 15, 17, 19, 20, 21, 22, 23, 24, 25, 26, 27, 28, 29] \n",
            "Valores:  [[1.0, 1.0, 1.0, 1.0, 0.0, 1.0, 1.0, 1.0, 0.0, 1.0, 1.0, 1.0, 1.0, 1.0, 0.0, 1.0, 0.0, 0.925318832930145, 1.0, 0.9661872834115504, 1.0, 1.0, 1.0, 1.0, 1.0, 0.9663063683343642, 1.0], [0.0, 0.5721696491395767, 0.0, 0.0, 0.0, 0.0, 0.0, 0.6571603742658303, 0.5901758549329567, 0.0, 0.6828626922266436, 0.5675075371990833, 0.0, 0.0, 0.0, 0.0, 0.0, 0.0, 0.0, 0.0, 0.0, 0.0]] \n",
            "Insatisfatível:  [0, 16, 18] \n",
            "\n",
            "\n",
            "Instância  1 \n",
            "Satisfatível:  [7, 9, 10, 11, 12, 13, 14, 15, 16, 17, 18, 19, 20, 21, 22, 23, 24, 25, 26, 27, 28, 29] \n",
            "Valores:  [[1.0, 1.0, 1.0, 1.0, 0.0, 1.0, 1.0, 1.0, 0.0, 1.0, 1.0, 1.0, 1.0, 1.0, 0.0, 1.0, 0.0, 0.925318832930145, 1.0, 0.9661872834115504, 1.0, 1.0, 1.0, 1.0, 1.0, 0.9663063683343642, 1.0], [0.0, 0.5721696491395767, 0.0, 0.0, 0.0, 0.0, 0.0, 0.6571603742658303, 0.5901758549329567, 0.0, 0.6828626922266436, 0.5675075371990833, 0.0, 0.0, 0.0, 0.0, 0.0, 0.0, 0.0, 0.0, 0.0, 0.0]] \n",
            "Insatisfatível:  [0, 1, 2, 3, 4, 5, 6, 8] \n",
            "\n",
            "\n"
          ]
        }
      ]
    }
  ]
}